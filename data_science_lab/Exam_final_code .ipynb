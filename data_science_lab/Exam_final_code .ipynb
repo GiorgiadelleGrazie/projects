{
 "cells": [
  {
   "cell_type": "code",
   "execution_count": 1,
   "id": "f1a5c966",
   "metadata": {},
   "outputs": [],
   "source": [
    "import numpy as np\n",
    "from matplotlib import pyplot as plt\n",
    "import seaborn as sns\n",
    "import pandas as pd\n",
    "\n",
    "from os import listdir\n",
    "from os.path import join\n",
    "from scipy.io import wavfile\n",
    "\n",
    "import IPython.display as ipd\n",
    "\n",
    "import librosa\n",
    "from librosa import feature as ft\n",
    "from librosa import effects as et\n",
    "from librosa import display as disp\n",
    "\n",
    "from scipy import stats as st \n",
    "\n",
    "from scipy import signal as sg"
   ]
  },
  {
   "cell_type": "code",
   "execution_count": 2,
   "id": "f6b8b1b8",
   "metadata": {},
   "outputs": [],
   "source": [
    "from sklearn.ensemble import RandomForestClassifier as RFC\n",
    "from sklearn import svm\n",
    "from sklearn import neighbors\n",
    "\n",
    "from sklearn.metrics import accuracy_score, precision_recall_fscore_support, classification_report\n",
    "from sklearn.model_selection import train_test_split, GridSearchCV, cross_val_score, ParameterGrid\n",
    "\n",
    "from sklearn.preprocessing import StandardScaler\n",
    "from sklearn.pipeline import Pipeline\n",
    "from sklearn.preprocessing import MinMaxScaler\n",
    "import sklearn"
   ]
  },
  {
   "cell_type": "code",
   "execution_count": 3,
   "id": "006498de",
   "metadata": {},
   "outputs": [],
   "source": [
    "rs = 42"
   ]
  },
  {
   "cell_type": "markdown",
   "id": "bd2c50ad",
   "metadata": {},
   "source": [
    "## Functions"
   ]
  },
  {
   "cell_type": "code",
   "execution_count": 4,
   "id": "3616aee8",
   "metadata": {},
   "outputs": [],
   "source": [
    "def normalize_dataset(X):\n",
    "    return [st.zscore(x) for x in X]"
   ]
  },
  {
   "cell_type": "code",
   "execution_count": 5,
   "id": "63302874",
   "metadata": {},
   "outputs": [],
   "source": [
    "#Denoising each signal with a  filter\n",
    "\n",
    "def denoising_dataset(X):\n",
    "    return [sg.savgol_filter(x, window_length = 15, polyorder = 5) for x in X]\n",
    "    #return [sg.wiener(x) for x in X]"
   ]
  },
  {
   "cell_type": "code",
   "execution_count": 6,
   "id": "bfb24b4b",
   "metadata": {},
   "outputs": [],
   "source": [
    "#Trim leading and trailing silence from an audio signal\n",
    "\n",
    "def remove_silence(X):\n",
    "    yt = []\n",
    "    for y in X:\n",
    "        ytr, _ = et.trim(y, top_db = 35, frame_length = 256, hop_length = 64)\n",
    "        yt.append(ytr)\n",
    "    return yt"
   ]
  },
  {
   "cell_type": "code",
   "execution_count": 7,
   "id": "d2cdc98d",
   "metadata": {},
   "outputs": [],
   "source": [
    "#Trimming and zero-padding the dataset \n",
    "\n",
    "def compute_length(X):\n",
    "    return [len(x) for x in X]\n",
    "\n",
    "def compute_percentile(X_length, perc = 95):\n",
    "    length_percentile = int(np.ceil(np.percentile(X_length, perc)))\n",
    "    return length_percentile\n",
    "    \n",
    "def equal_length(X, length_percentile):\n",
    "    X = [x[:length_percentile] for x in X]\n",
    "    X = [np.pad(x, (0, length_percentile - len(x)), constant_values = 0.0) for x in X]\n",
    "    return X"
   ]
  },
  {
   "cell_type": "code",
   "execution_count": 8,
   "id": "4ed695fb",
   "metadata": {},
   "outputs": [],
   "source": [
    "def compute_mfcc(x):\n",
    "    mfcc = ft.mfcc(y = x, sr = SR, n_mfcc = 13, n_fft = 512)\n",
    "    mfcc = (mfcc - np.mean(mfcc, axis = 1).reshape(-1,1))/(np.std(mfcc, axis = 1).reshape(-1,1))\n",
    "    return (np.hstack(mfcc))\n",
    "\n",
    "def compute_mfcc_delta(x):\n",
    "    mfcc = ft.mfcc(y = x, sr = SR, n_mfcc = 13, n_fft = 512)\n",
    "    mfcc_delta = ft.delta(mfcc)\n",
    "    mfcc = (mfcc - np.mean(mfcc, axis = 1).reshape(-1,1))/(np.std(mfcc, axis = 1).reshape(-1,1))\n",
    "    x_sp = np.concatenate((mfcc, mfcc_delta))\n",
    "    return (np.hstack(x_sp))    \n",
    "\n",
    "def compute_mfcc_delta_delta(x):\n",
    "    mfcc = ft.mfcc(y = x, sr = SR, n_mfcc = 13, n_fft = 512)\n",
    "    mfcc_delta = ft.delta(mfcc)\n",
    "    mfcc_delta_delta = ft.delta(mfcc, order = 2)\n",
    "    mfcc = (mfcc - np.mean(mfcc, axis = 1).reshape(-1,1))/(np.std(mfcc, axis = 1).reshape(-1,1))\n",
    "    x_sp = np.concatenate((mfcc, mfcc_delta))    \n",
    "    x_sp = np.concatenate((x_sp, mfcc_delta_delta))\n",
    "    return (np.hstack(x_sp))\n",
    "\n",
    "def compute_dataset_features(X, method = 'mfcc'):\n",
    "    if method == 'mfcc':\n",
    "        X_sp = [compute_mfcc(x) for x in X]\n",
    "    if method == \"mfcc_delta\":\n",
    "        X_sp = [compute_mfcc_delta(x) for x in X]\n",
    "    if method == \"mfcc_delta_delta\":\n",
    "        X_sp = [compute_mfcc_delta_delta(x) for x in X]\n",
    "    return np.vstack(X_sp) "
   ]
  },
  {
   "cell_type": "markdown",
   "id": "a696e4fe",
   "metadata": {},
   "source": [
    "## Loading the dataset"
   ]
  },
  {
   "cell_type": "code",
   "execution_count": 9,
   "id": "a3bd3714",
   "metadata": {},
   "outputs": [],
   "source": [
    "df = pd.read_csv('development.csv', sep = ',', low_memory = False)"
   ]
  },
  {
   "cell_type": "code",
   "execution_count": 10,
   "id": "63f92ab5",
   "metadata": {},
   "outputs": [],
   "source": [
    "df[\"intent\"] = df[\"action\"] + df[\"object\"]\n",
    "gender = df[\"gender\"]\n",
    "df.drop([\"Id\", \"speakerId\", \"Self-reported fluency level \", \"First Language spoken\", \"Current language used for work/school\", \"gender\", \"ageRange\"], axis = 1, inplace = True)\n",
    "df.drop([\"object\", \"action\"], axis = 1, inplace = True)\n",
    "dirs = df['path']"
   ]
  },
  {
   "cell_type": "markdown",
   "id": "6ab641f8",
   "metadata": {},
   "source": [
    "## Preprocessing"
   ]
  },
  {
   "cell_type": "markdown",
   "id": "43f91913",
   "metadata": {},
   "source": [
    "Resample and shifting"
   ]
  },
  {
   "cell_type": "code",
   "execution_count": 11,
   "id": "8f232d7c",
   "metadata": {},
   "outputs": [],
   "source": [
    "SR = 22050"
   ]
  },
  {
   "cell_type": "code",
   "execution_count": 12,
   "id": "cb690883",
   "metadata": {},
   "outputs": [],
   "source": [
    "file_p = []\n",
    "\n",
    "for audio, g in zip(dirs, gender):\n",
    "    data,_ = librosa.load(audio)\n",
    "    if g == \"female\":\n",
    "        data = et.pitch_shift(data, sr = SR, n_steps = -1, bins_per_octave = 12)\n",
    "    file_p.append(data)"
   ]
  },
  {
   "cell_type": "code",
   "execution_count": 13,
   "id": "3fc86352",
   "metadata": {},
   "outputs": [],
   "source": [
    "dev_y = df['intent']"
   ]
  },
  {
   "cell_type": "markdown",
   "id": "dbb4d4e8",
   "metadata": {},
   "source": [
    "Normalizing"
   ]
  },
  {
   "cell_type": "code",
   "execution_count": 14,
   "id": "d87a421c",
   "metadata": {},
   "outputs": [],
   "source": [
    "dev_X = normalize_dataset(file_p)"
   ]
  },
  {
   "cell_type": "markdown",
   "id": "2cd7a34b",
   "metadata": {},
   "source": [
    "Denoising"
   ]
  },
  {
   "cell_type": "code",
   "execution_count": 15,
   "id": "210154a5",
   "metadata": {},
   "outputs": [],
   "source": [
    "dev_X = denoising_dataset(dev_X)"
   ]
  },
  {
   "cell_type": "markdown",
   "id": "15ae492e",
   "metadata": {},
   "source": [
    "Removing silence"
   ]
  },
  {
   "cell_type": "code",
   "execution_count": 16,
   "id": "eeafa6bb",
   "metadata": {},
   "outputs": [],
   "source": [
    "dev_X = remove_silence(dev_X)"
   ]
  },
  {
   "cell_type": "markdown",
   "id": "7f828dbc",
   "metadata": {},
   "source": [
    "Padding and trimming"
   ]
  },
  {
   "cell_type": "code",
   "execution_count": 17,
   "id": "09bd27c1",
   "metadata": {},
   "outputs": [],
   "source": [
    "X_length = compute_length(dev_X)"
   ]
  },
  {
   "cell_type": "code",
   "execution_count": 18,
   "id": "ad831d4d",
   "metadata": {},
   "outputs": [],
   "source": [
    "perc = compute_percentile(X_length, perc = 95)"
   ]
  },
  {
   "cell_type": "code",
   "execution_count": 19,
   "id": "35a13adc",
   "metadata": {},
   "outputs": [],
   "source": [
    "dev_X = equal_length(dev_X, perc)"
   ]
  },
  {
   "cell_type": "markdown",
   "id": "87f149b5",
   "metadata": {},
   "source": [
    "Extracting features"
   ]
  },
  {
   "cell_type": "code",
   "execution_count": 20,
   "id": "7aea0f40",
   "metadata": {},
   "outputs": [],
   "source": [
    "X_sp = compute_dataset_features(dev_X, method = 'mfcc')"
   ]
  },
  {
   "cell_type": "code",
   "execution_count": 21,
   "id": "e312c02b",
   "metadata": {},
   "outputs": [],
   "source": [
    "X_sp_delta = compute_dataset_features(dev_X, method = 'mfcc_delta')"
   ]
  },
  {
   "cell_type": "code",
   "execution_count": 22,
   "id": "1f1bfb80",
   "metadata": {},
   "outputs": [],
   "source": [
    "X_sp_delta_delta = compute_dataset_features(dev_X, method = 'mfcc_delta_delta')"
   ]
  },
  {
   "cell_type": "markdown",
   "id": "ee40c069",
   "metadata": {},
   "source": [
    "## Graphics"
   ]
  },
  {
   "cell_type": "markdown",
   "id": "6b2f8a7e",
   "metadata": {},
   "source": [
    "Show the first audio without pitch shifting, with pitch shifting and with denoising and silence removed."
   ]
  },
  {
   "cell_type": "code",
   "execution_count": 59,
   "id": "ddff1e5d",
   "metadata": {},
   "outputs": [],
   "source": [
    "audio_0,_ = librosa.load(dirs[0])\n",
    "audio_0_shifted = et.pitch_shift(audio_0, sr = SR, n_steps = -1, bins_per_octave = 12)\n",
    "audio_0_preproc = sg.savgol_filter(audio_0_shifted, window_length = 15, polyorder = 5)\n",
    "audio_0_preproc, _ = et.trim(audio_0_preproc, top_db = 35, frame_length = 256, hop_length = 64)"
   ]
  },
  {
   "cell_type": "code",
   "execution_count": 60,
   "id": "41ac2fe9",
   "metadata": {},
   "outputs": [
    {
     "data": {
      "image/png": "[encoded data removed]",
      "text/plain": [
       "<Figure size 864x360 with 1 Axes>"
      ]
     },
     "metadata": {
      "needs_background": "light"
     },
     "output_type": "display_data"
    }
   ],
   "source": [
    "fig, ax = plt.subplots(1, 1, figsize = (12, 5))\n",
    "ax.plot(audio_0, label = \"normal\", color = \"lightpink\")\n",
    "ax.plot(audio_0_shifted, label = \"pitch shifted\", color = \"slateblue\")\n",
    "ax.plot(audio_0_preproc, label = \"noise+silence removed\", color = \"orange\")\n",
    "#ax.set_xticks(np.arange(0, len(audio_0), 10))\n",
    "#ax.set_xticklabels([sample/SR for sample in np.arange(0, len(audio_0), 10)])\n",
    "ax.set_ylabel(\"Amplitude\", fontsize = 12)\n",
    "ax.set_xlabel(\"Time (s)\", fontsize = 12)\n",
    "leg = ax.legend(prop = {'size': 10.5})\n",
    "plt.grid(True)\n",
    "plt.show()"
   ]
  },
  {
   "cell_type": "markdown",
   "id": "53978346",
   "metadata": {},
   "source": [
    "Histogram of lengths"
   ]
  },
  {
   "cell_type": "code",
   "execution_count": 23,
   "id": "ce519413",
   "metadata": {},
   "outputs": [],
   "source": [
    "X = normalize_dataset(file_p)"
   ]
  },
  {
   "cell_type": "code",
   "execution_count": 24,
   "id": "212bcc33",
   "metadata": {},
   "outputs": [],
   "source": [
    "X = denoising_dataset(dev_X)"
   ]
  },
  {
   "cell_type": "code",
   "execution_count": 25,
   "id": "c7e52e50",
   "metadata": {},
   "outputs": [],
   "source": [
    "X = remove_silence(dev_X)"
   ]
  },
  {
   "cell_type": "code",
   "execution_count": 26,
   "id": "7a9d6062",
   "metadata": {},
   "outputs": [],
   "source": [
    "Length = compute_length(X)\n",
    "perc_95 = compute_percentile(Length, perc = 95)"
   ]
  },
  {
   "cell_type": "code",
   "execution_count": 61,
   "id": "1d5e3482",
   "metadata": {},
   "outputs": [
    {
     "data": {
      "image/png": "[encoded data removed]",
      "text/plain": [
       "<Figure size 864x360 with 1 Axes>"
      ]
     },
     "metadata": {
      "needs_background": "light"
     },
     "output_type": "display_data"
    }
   ],
   "source": [
    "fig, ax = plt.subplots(1, 1, figsize = (12, 5))\n",
    "plt.hist(Length, facecolor = 'violet', edgecolor = 'darkviolet', linewidth = 1)\n",
    "ax.set_ylabel(\"Frequency\", fontsize = 12)\n",
    "ax.set_xlabel(\"Length\", fontsize = 12)\n",
    "#plt.axvline(perc_95, color='orange')\n",
    "plt.grid(True)\n",
    "plt.show()"
   ]
  },
  {
   "cell_type": "markdown",
   "id": "cfd4fdf4",
   "metadata": {},
   "source": [
    "MFCC plot"
   ]
  },
  {
   "cell_type": "code",
   "execution_count": 27,
   "id": "00770d58",
   "metadata": {},
   "outputs": [],
   "source": [
    "X_after = equal_length(X, perc_95)"
   ]
  },
  {
   "cell_type": "code",
   "execution_count": 28,
   "id": "3917fa6b",
   "metadata": {},
   "outputs": [],
   "source": [
    "mfcc0 = ft.mfcc(y = X_after[0], sr = SR, n_mfcc = 13, n_fft = 512)\n",
    "mfcc0_MV = (mfcc0 - np.mean(mfcc0, axis = 1).reshape(-1,1))/(np.std(mfcc0, axis = 1).reshape(-1,1))"
   ]
  },
  {
   "cell_type": "code",
   "execution_count": 29,
   "id": "fa78ad46",
   "metadata": {},
   "outputs": [
    {
     "data": {
      "image/png": "[encoded data removed]",
      "text/plain": [
       "<Figure size 720x360 with 2 Axes>"
      ]
     },
     "metadata": {
      "needs_background": "light"
     },
     "output_type": "display_data"
    }
   ],
   "source": [
    "fig, ax = plt.subplots(nrows = 2, ncols = 1, figsize = (10, 5))\n",
    "librosa.display.specshow(mfcc0, sr = SR, x_axis = 'time', ax = ax[0])\n",
    "librosa.display.specshow(mfcc0_MV, sr = SR, x_axis = 'time', ax = ax[1]) \n",
    "fig.tight_layout()\n",
    "plt.show()"
   ]
  },
  {
   "cell_type": "markdown",
   "id": "b98cb930",
   "metadata": {},
   "source": [
    "class"
   ]
  },
  {
   "cell_type": "code",
   "execution_count": 62,
   "id": "af962892",
   "metadata": {},
   "outputs": [
    {
     "data": {
      "image/png": "[encoded data removed]",
      "text/plain": [
       "<Figure size 936x360 with 1 Axes>"
      ]
     },
     "metadata": {
      "needs_background": "light"
     },
     "output_type": "display_data"
    }
   ],
   "source": [
    "class_, counts_ = np.unique(np.array(dev_y), return_counts = True)\n",
    "fig, ax = plt.subplots(1, 1, figsize = (13, 5))\n",
    "plt.bar(class_, counts_, color = ['hotpink', 'orchid', 'mediumpurple', 'mediumblue', 'lightsteelblue', 'coral', 'mediumseagreen'])\n",
    "ax.set_ylabel(\"Count\", fontsize = 12)\n",
    "ax.set_xlabel(\"Intent\", fontsize = 12)\n",
    "#plt.axvline(perc_95, color='orange')\n",
    "#plt.grid(True)\n",
    "plt.show()"
   ]
  },
  {
   "cell_type": "markdown",
   "id": "e877856b",
   "metadata": {},
   "source": [
    "## Hyperparameters tuning"
   ]
  },
  {
   "cell_type": "markdown",
   "id": "366380b1",
   "metadata": {},
   "source": [
    "We split the dataset Trainig, Validition and Test set as 60 20 20"
   ]
  },
  {
   "cell_type": "code",
   "execution_count": 30,
   "id": "d167e58a",
   "metadata": {},
   "outputs": [],
   "source": [
    "x_train, x_val_test, y_train, y_val_test = train_test_split(X_sp, dev_y, test_size = 0.40, random_state = rs, stratify = dev_y)\n",
    "\n",
    "x_val, x_test, y_val, y_test = train_test_split(x_val_test, y_val_test, test_size = 0.20, random_state = rs, stratify = y_val_test)\n",
    "\n",
    "x_train_final = np.concatenate((x_train, x_val))\n",
    "y_train_final = np.concatenate((y_train, y_val))"
   ]
  },
  {
   "cell_type": "markdown",
   "id": "36182e19",
   "metadata": {},
   "source": [
    "# MFCC"
   ]
  },
  {
   "cell_type": "markdown",
   "id": "fa390607",
   "metadata": {},
   "source": [
    "### SVM"
   ]
  },
  {
   "cell_type": "code",
   "execution_count": 31,
   "id": "a4093f94",
   "metadata": {
    "scrolled": true
   },
   "outputs": [
    {
     "name": "stdout",
     "output_type": "stream",
     "text": [
      "0.6384395813510942 {'C': 1, 'kernel': 'rbf'}\n",
      "0.5451950523311132 {'C': 1, 'kernel': 'poly'}\n",
      "0.4370440849984142 {'C': 1, 'kernel': 'linear'}\n",
      "0.6986996511259118 {'C': 5, 'kernel': 'rbf'}\n",
      "0.5451950523311132 {'C': 5, 'kernel': 'poly'}\n",
      "0.4110371075166508 {'C': 5, 'kernel': 'linear'}\n",
      "0.7012369172216937 {'C': 7, 'kernel': 'rbf'}\n",
      "0.5451950523311132 {'C': 7, 'kernel': 'poly'}\n",
      "0.4037424674912781 {'C': 7, 'kernel': 'linear'}\n",
      "0.7015540754836663 {'C': 10, 'kernel': 'rbf'}\n",
      "0.5451950523311132 {'C': 10, 'kernel': 'poly'}\n",
      "0.4002537266095782 {'C': 10, 'kernel': 'linear'}\n"
     ]
    }
   ],
   "source": [
    "minmax_s = MinMaxScaler()\n",
    "minmax_s.fit(x_train)\n",
    "x_train_norm = minmax_s.transform(x_train)\n",
    "x_val_norm = minmax_s.transform(x_val)\n",
    "\n",
    "param_grid = {'C': [1, 5, 7, 10],\n",
    "              'kernel': ['rbf', 'poly', 'linear']}\n",
    "\n",
    "accuracies = []\n",
    "for config in ParameterGrid(param_grid):\n",
    "    supportvector = svm.SVC(**config)\n",
    "    supportvector.fit(x_train_norm, y_train)\n",
    "    y_predict = supportvector.predict(x_val_norm)\n",
    "    \n",
    "    accuracies.append(accuracy_score(y_val, y_predict))\n",
    "    \n",
    "for acc, param in zip(accuracies, list(ParameterGrid(param_grid))):\n",
    "    print(acc, param)"
   ]
  },
  {
   "cell_type": "code",
   "execution_count": 33,
   "id": "7372cb57",
   "metadata": {},
   "outputs": [
    {
     "name": "stdout",
     "output_type": "stream",
     "text": [
      "0.743979721166033 {'C': 10, 'kernel': 'rbf'}\n"
     ]
    }
   ],
   "source": [
    "best_config = list(ParameterGrid(param_grid))[np.argmax(accuracies)]\n",
    "\n",
    "minmax_s = MinMaxScaler()\n",
    "minmax_s.fit(x_train_final)\n",
    "x_train_norm_f = minmax_s.transform(x_train_final)\n",
    "x_test_norm = minmax_s.transform(x_test)\n",
    "\n",
    "supportvector = svm.SVC(**best_config)\n",
    "supportvector.fit(x_train_norm_f, y_train_final)\n",
    "acc = accuracy_score(y_test, supportvector.predict(x_test_norm))\n",
    "\n",
    "print(acc, best_config)"
   ]
  },
  {
   "cell_type": "markdown",
   "id": "aa0acd3a",
   "metadata": {},
   "source": [
    "### RANDOM FOREST"
   ]
  },
  {
   "cell_type": "code",
   "execution_count": 34,
   "id": "1ff9d58b",
   "metadata": {},
   "outputs": [
    {
     "name": "stdout",
     "output_type": "stream",
     "text": [
      "0.5128449096098954 {'criterion': 'gini', 'max_depth': None, 'n_estimators': 70}\n",
      "0.5191880748493498 {'criterion': 'gini', 'max_depth': None, 'n_estimators': 100}\n",
      "0.5233111322549953 {'criterion': 'gini', 'max_depth': None, 'n_estimators': 150}\n",
      "0.4954012052013955 {'criterion': 'gini', 'max_depth': 10, 'n_estimators': 70}\n",
      "0.49603552172534093 {'criterion': 'gini', 'max_depth': 10, 'n_estimators': 100}\n",
      "0.49888994608309545 {'criterion': 'gini', 'max_depth': 10, 'n_estimators': 150}\n",
      "0.50523311132255 {'criterion': 'gini', 'max_depth': 20, 'n_estimators': 70}\n",
      "0.5160164922296225 {'criterion': 'gini', 'max_depth': 20, 'n_estimators': 100}\n",
      "0.523628290516968 {'criterion': 'gini', 'max_depth': 20, 'n_estimators': 150}\n",
      "0.5147478591817317 {'criterion': 'entropy', 'max_depth': None, 'n_estimators': 70}\n",
      "0.5283856644465589 {'criterion': 'entropy', 'max_depth': None, 'n_estimators': 100}\n",
      "0.5347288296860133 {'criterion': 'entropy', 'max_depth': None, 'n_estimators': 150}\n",
      "0.5042816365366318 {'criterion': 'entropy', 'max_depth': 10, 'n_estimators': 70}\n",
      "0.5014272121788773 {'criterion': 'entropy', 'max_depth': 10, 'n_estimators': 100}\n",
      "0.5134792261338408 {'criterion': 'entropy', 'max_depth': 10, 'n_estimators': 150}\n",
      "0.5214081826831589 {'criterion': 'entropy', 'max_depth': 20, 'n_estimators': 70}\n",
      "0.5299714557564225 {'criterion': 'entropy', 'max_depth': 20, 'n_estimators': 100}\n",
      "0.531557247066286 {'criterion': 'entropy', 'max_depth': 20, 'n_estimators': 150}\n"
     ]
    }
   ],
   "source": [
    "param_grid = {'n_estimators': [70, 100, 150],\n",
    "              'criterion': ['gini', 'entropy'],\n",
    "             'max_depth': [None, 10, 20]}\n",
    "\n",
    "accuracies = []\n",
    "for config in ParameterGrid(param_grid):\n",
    "    rfc = RFC(**config)\n",
    "    rfc.fit(x_train, y_train)\n",
    "    y_predict = rfc.predict(x_val)\n",
    "    \n",
    "    accuracies.append(accuracy_score(y_val, y_predict))\n",
    "    \n",
    "for acc, param in zip(accuracies, list(ParameterGrid(param_grid))):\n",
    "    print(acc, param)"
   ]
  },
  {
   "cell_type": "code",
   "execution_count": 36,
   "id": "d268dd0e",
   "metadata": {},
   "outputs": [
    {
     "name": "stdout",
     "output_type": "stream",
     "text": [
      "0.5475285171102662 {'criterion': 'entropy', 'max_depth': None, 'n_estimators': 150}\n"
     ]
    }
   ],
   "source": [
    "best_config = list(ParameterGrid(param_grid))[np.argmax(accuracies)]\n",
    "\n",
    "rfc = RFC(**best_config)\n",
    "rfc.fit(x_train_final, y_train_final)\n",
    "acc = accuracy_score(y_test, rfc.predict(x_test))\n",
    "\n",
    "print(acc, best_config)"
   ]
  },
  {
   "cell_type": "markdown",
   "id": "37b20d52",
   "metadata": {},
   "source": [
    "### KNN"
   ]
  },
  {
   "cell_type": "code",
   "execution_count": 37,
   "id": "6a242b17",
   "metadata": {},
   "outputs": [
    {
     "name": "stdout",
     "output_type": "stream",
     "text": [
      "0.7310497938471298 {'n_neighbors': 6}\n",
      "0.7316841103710752 {'n_neighbors': 10}\n",
      "0.7234379955597844 {'n_neighbors': 15}\n"
     ]
    }
   ],
   "source": [
    "param_grid = {'n_neighbors': [6, 10, 15]}\n",
    "\n",
    "accuracies = []\n",
    "for config in ParameterGrid(param_grid):\n",
    "    knn = neighbors.KNeighborsClassifier(**config)\n",
    "    knn.fit(x_train, y_train)\n",
    "    y_predict = knn.predict(x_val)\n",
    "    \n",
    "    accuracies.append(accuracy_score(y_val, y_predict))\n",
    "    \n",
    "for acc, param in zip(accuracies, list(ParameterGrid(param_grid))):\n",
    "    print(acc, param)"
   ]
  },
  {
   "cell_type": "code",
   "execution_count": 38,
   "id": "ede07217",
   "metadata": {},
   "outputs": [
    {
     "name": "stdout",
     "output_type": "stream",
     "text": [
      "0.7287705956907478 {'n_neighbors': 10}\n"
     ]
    }
   ],
   "source": [
    "best_config = list(ParameterGrid(param_grid))[np.argmax(accuracies)]\n",
    "\n",
    "knn = neighbors.KNeighborsClassifier(**best_config)\n",
    "knn.fit(x_train_final, y_train_final)\n",
    "acc = accuracy_score(y_test, knn.predict(x_test))\n",
    "\n",
    "print(acc, best_config)"
   ]
  },
  {
   "cell_type": "markdown",
   "id": "7abbe77d",
   "metadata": {},
   "source": [
    "# MFCC + DELTA"
   ]
  },
  {
   "cell_type": "code",
   "execution_count": 39,
   "id": "ef5e568d",
   "metadata": {},
   "outputs": [],
   "source": [
    "x_train, x_val_test, y_train, y_val_test = train_test_split(X_sp_delta, dev_y, test_size = 0.40, random_state = rs, stratify = dev_y)\n",
    "\n",
    "x_val, x_test, y_val, y_test = train_test_split(x_val_test, y_val_test, test_size = 0.20, random_state = rs, stratify = y_val_test)\n",
    "\n",
    "x_train_final = np.concatenate((x_train, x_val))\n",
    "y_train_final = np.concatenate((y_train, y_val))"
   ]
  },
  {
   "cell_type": "markdown",
   "id": "26bfcedf",
   "metadata": {},
   "source": [
    "### SVM"
   ]
  },
  {
   "cell_type": "code",
   "execution_count": 40,
   "id": "76af95c1",
   "metadata": {
    "scrolled": true
   },
   "outputs": [
    {
     "name": "stdout",
     "output_type": "stream",
     "text": [
      "0.6596891849032668 {'C': 1, 'kernel': 'rbf'}\n",
      "0.5715191880748494 {'C': 1, 'kernel': 'poly'}\n",
      "0.45068189026324135 {'C': 1, 'kernel': 'linear'}\n",
      "0.7262924199175389 {'C': 5, 'kernel': 'rbf'}\n",
      "0.5715191880748494 {'C': 5, 'kernel': 'poly'}\n",
      "0.4256263875673961 {'C': 5, 'kernel': 'linear'}\n",
      "0.7259752616555661 {'C': 7, 'kernel': 'rbf'}\n",
      "0.5715191880748494 {'C': 7, 'kernel': 'poly'}\n",
      "0.4240405962575325 {'C': 7, 'kernel': 'linear'}\n",
      "0.7256581033935934 {'C': 10, 'kernel': 'rbf'}\n",
      "0.5715191880748494 {'C': 10, 'kernel': 'poly'}\n",
      "0.42435775451950525 {'C': 10, 'kernel': 'linear'}\n"
     ]
    }
   ],
   "source": [
    "minmax_s = MinMaxScaler()\n",
    "minmax_s.fit(x_train)\n",
    "x_train_norm = minmax_s.transform(x_train)\n",
    "x_val_norm = minmax_s.transform(x_val)\n",
    "\n",
    "param_grid = {'C': [1, 5, 7, 10],\n",
    "              'kernel': ['rbf', 'poly', 'linear']}\n",
    "\n",
    "accuracies = []\n",
    "for config in ParameterGrid(param_grid):\n",
    "    supportvector = svm.SVC(**config)\n",
    "    supportvector.fit(x_train_norm, y_train)\n",
    "    y_predict = supportvector.predict(x_val_norm)\n",
    "    \n",
    "    accuracies.append(accuracy_score(y_val, y_predict))\n",
    "    \n",
    "for acc, param in zip(accuracies, list(ParameterGrid(param_grid))):\n",
    "    print(acc, param)"
   ]
  },
  {
   "cell_type": "code",
   "execution_count": 41,
   "id": "eca2fa80",
   "metadata": {},
   "outputs": [
    {
     "name": "stdout",
     "output_type": "stream",
     "text": [
      "0.7629911280101395 {'C': 5, 'kernel': 'rbf'}\n"
     ]
    }
   ],
   "source": [
    "best_config = list(ParameterGrid(param_grid))[np.argmax(accuracies)]\n",
    "\n",
    "minmax_s = MinMaxScaler()\n",
    "minmax_s.fit(x_train_final)\n",
    "x_train_norm_f = minmax_s.transform(x_train_final)\n",
    "x_test_norm = minmax_s.transform(x_test)\n",
    "\n",
    "supportvector = svm.SVC(**best_config)\n",
    "supportvector.fit(x_train_norm_f, y_train_final)\n",
    "acc = accuracy_score(y_test, supportvector.predict(x_test_norm))\n",
    "\n",
    "print(acc, best_config)"
   ]
  },
  {
   "cell_type": "markdown",
   "id": "f821cf1d",
   "metadata": {},
   "source": [
    "### RANDOM FOREST"
   ]
  },
  {
   "cell_type": "code",
   "execution_count": 42,
   "id": "4a1ef84d",
   "metadata": {},
   "outputs": [
    {
     "name": "stdout",
     "output_type": "stream",
     "text": [
      "0.532825880114177 {'criterion': 'gini', 'max_depth': None, 'n_estimators': 70}\n",
      "0.551221059308595 {'criterion': 'gini', 'max_depth': None, 'n_estimators': 100}\n",
      "0.5502695845226768 {'criterion': 'gini', 'max_depth': None, 'n_estimators': 150}\n",
      "0.5061845861084682 {'criterion': 'gini', 'max_depth': 10, 'n_estimators': 70}\n",
      "0.5080875356803045 {'criterion': 'gini', 'max_depth': 10, 'n_estimators': 100}\n",
      "0.510941960038059 {'criterion': 'gini', 'max_depth': 10, 'n_estimators': 150}\n",
      "0.531557247066286 {'criterion': 'gini', 'max_depth': 20, 'n_estimators': 70}\n",
      "0.5467808436409769 {'criterion': 'gini', 'max_depth': 20, 'n_estimators': 100}\n",
      "0.5518553758325404 {'criterion': 'gini', 'max_depth': 20, 'n_estimators': 150}\n",
      "0.5302886140183952 {'criterion': 'entropy', 'max_depth': None, 'n_estimators': 70}\n",
      "0.5547098001902949 {'criterion': 'entropy', 'max_depth': None, 'n_estimators': 100}\n",
      "0.5486837932128132 {'criterion': 'entropy', 'max_depth': None, 'n_estimators': 150}\n",
      "0.50174437044085 {'criterion': 'entropy', 'max_depth': 10, 'n_estimators': 70}\n",
      "0.523628290516968 {'criterion': 'entropy', 'max_depth': 10, 'n_estimators': 100}\n",
      "0.5220424992071043 {'criterion': 'entropy', 'max_depth': 10, 'n_estimators': 150}\n",
      "0.5382175705677132 {'criterion': 'entropy', 'max_depth': 20, 'n_estimators': 70}\n",
      "0.5448778940691406 {'criterion': 'entropy', 'max_depth': 20, 'n_estimators': 100}\n",
      "0.5417063114494133 {'criterion': 'entropy', 'max_depth': 20, 'n_estimators': 150}\n"
     ]
    }
   ],
   "source": [
    "param_grid = {'n_estimators': [70, 100, 150],\n",
    "              'criterion': ['gini', 'entropy'],\n",
    "             'max_depth': [None, 10, 20]}\n",
    "\n",
    "accuracies = []\n",
    "for config in ParameterGrid(param_grid):\n",
    "    rfc = RFC(**config)\n",
    "    rfc.fit(x_train, y_train)\n",
    "    y_predict = rfc.predict(x_val)\n",
    "    \n",
    "    accuracies.append(accuracy_score(y_val, y_predict))\n",
    "    \n",
    "for acc, param in zip(accuracies, list(ParameterGrid(param_grid))):\n",
    "    print(acc, param)"
   ]
  },
  {
   "cell_type": "code",
   "execution_count": 43,
   "id": "df634951",
   "metadata": {},
   "outputs": [
    {
     "name": "stdout",
     "output_type": "stream",
     "text": [
      "0.5741444866920152 {'criterion': 'entropy', 'max_depth': None, 'n_estimators': 100}\n"
     ]
    }
   ],
   "source": [
    "best_config = list(ParameterGrid(param_grid))[np.argmax(accuracies)]\n",
    "\n",
    "rfc = RFC(**best_config)\n",
    "rfc.fit(x_train_final, y_train_final)\n",
    "acc = accuracy_score(y_test, rfc.predict(x_test))\n",
    "\n",
    "print(acc, best_config)"
   ]
  },
  {
   "cell_type": "markdown",
   "id": "9150766e",
   "metadata": {},
   "source": [
    "### KNN"
   ]
  },
  {
   "cell_type": "code",
   "execution_count": 44,
   "id": "818aadde",
   "metadata": {},
   "outputs": [
    {
     "name": "stdout",
     "output_type": "stream",
     "text": [
      "0.6463685379004123 {'n_neighbors': 6}\n",
      "0.6292419917538852 {'n_neighbors': 10}\n",
      "0.6102124960355217 {'n_neighbors': 15}\n"
     ]
    }
   ],
   "source": [
    "param_grid = {'n_neighbors': [6, 10, 15]}\n",
    "\n",
    "accuracies = []\n",
    "for config in ParameterGrid(param_grid):\n",
    "    knn = neighbors.KNeighborsClassifier(**config)\n",
    "    knn.fit(x_train, y_train)\n",
    "    y_predict = knn.predict(x_val)\n",
    "    \n",
    "    accuracies.append(accuracy_score(y_val, y_predict))\n",
    "    \n",
    "for acc, param in zip(accuracies, list(ParameterGrid(param_grid))):\n",
    "    print(acc, param)"
   ]
  },
  {
   "cell_type": "code",
   "execution_count": 45,
   "id": "6d4bacb6",
   "metadata": {},
   "outputs": [
    {
     "name": "stdout",
     "output_type": "stream",
     "text": [
      "0.6818757921419518 {'n_neighbors': 6}\n"
     ]
    }
   ],
   "source": [
    "best_config = list(ParameterGrid(param_grid))[np.argmax(accuracies)]\n",
    "\n",
    "knn = neighbors.KNeighborsClassifier(**best_config)\n",
    "knn.fit(x_train_final, y_train_final)\n",
    "acc = accuracy_score(y_test, knn.predict(x_test))\n",
    "\n",
    "print(acc, best_config)"
   ]
  },
  {
   "cell_type": "markdown",
   "id": "5944d6dc",
   "metadata": {},
   "source": [
    "# MFCC + DELTA + DELTADELTA"
   ]
  },
  {
   "cell_type": "code",
   "execution_count": 46,
   "id": "42316d5d",
   "metadata": {},
   "outputs": [],
   "source": [
    "x_train, x_val_test, y_train, y_val_test = train_test_split(X_sp_delta_delta, dev_y, test_size = 0.40, random_state = rs, stratify = dev_y)\n",
    "\n",
    "x_val, x_test, y_val, y_test = train_test_split(x_val_test, y_val_test, test_size = 0.20, random_state = rs, stratify = y_val_test)\n",
    "\n",
    "x_train_final = np.concatenate((x_train, x_val))\n",
    "y_train_final = np.concatenate((y_train, y_val))"
   ]
  },
  {
   "cell_type": "markdown",
   "id": "7c0c2c40",
   "metadata": {},
   "source": [
    "### SVM"
   ]
  },
  {
   "cell_type": "code",
   "execution_count": 47,
   "id": "297b5b46",
   "metadata": {
    "scrolled": true
   },
   "outputs": [
    {
     "name": "stdout",
     "output_type": "stream",
     "text": [
      "0.6320964161116397 {'C': 1, 'kernel': 'rbf'}\n",
      "0.5499524262607041 {'C': 1, 'kernel': 'poly'}\n",
      "0.4383127180463051 {'C': 1, 'kernel': 'linear'}\n",
      "0.7082143989850935 {'C': 5, 'kernel': 'rbf'}\n",
      "0.5499524262607041 {'C': 5, 'kernel': 'poly'}\n",
      "0.41833174754202346 {'C': 5, 'kernel': 'linear'}\n",
      "0.7094830320329845 {'C': 7, 'kernel': 'rbf'}\n",
      "0.5499524262607041 {'C': 7, 'kernel': 'poly'}\n",
      "0.41801458928005075 {'C': 7, 'kernel': 'linear'}\n",
      "0.7094830320329845 {'C': 10, 'kernel': 'rbf'}\n",
      "0.5499524262607041 {'C': 10, 'kernel': 'poly'}\n",
      "0.4161116397082144 {'C': 10, 'kernel': 'linear'}\n"
     ]
    }
   ],
   "source": [
    "minmax_s = MinMaxScaler()\n",
    "minmax_s.fit(x_train)\n",
    "x_train_norm = minmax_s.transform(x_train)\n",
    "x_val_norm = minmax_s.transform(x_val)\n",
    "\n",
    "param_grid = {'C': [1, 5, 7, 10],\n",
    "              'kernel': ['rbf', 'poly', 'linear']}\n",
    "\n",
    "accuracies = []\n",
    "for config in ParameterGrid(param_grid):\n",
    "    supportvector = svm.SVC(**config)\n",
    "    supportvector.fit(x_train_norm, y_train)\n",
    "    y_predict = supportvector.predict(x_val_norm)\n",
    "    \n",
    "    accuracies.append(accuracy_score(y_val, y_predict))\n",
    "    \n",
    "for acc, param in zip(accuracies, list(ParameterGrid(param_grid))):\n",
    "    print(acc, param)"
   ]
  },
  {
   "cell_type": "code",
   "execution_count": 48,
   "id": "fb821244",
   "metadata": {},
   "outputs": [
    {
     "name": "stdout",
     "output_type": "stream",
     "text": [
      "0.743979721166033 {'C': 7, 'kernel': 'rbf'}\n"
     ]
    }
   ],
   "source": [
    "best_config = list(ParameterGrid(param_grid))[np.argmax(accuracies)]\n",
    "\n",
    "minmax_s = MinMaxScaler()\n",
    "minmax_s.fit(x_train_final)\n",
    "x_train_norm_f = minmax_s.transform(x_train_final)\n",
    "x_test_norm = minmax_s.transform(x_test)\n",
    "\n",
    "supportvector = svm.SVC(**best_config)\n",
    "supportvector.fit(x_train_norm_f, y_train_final)\n",
    "acc = accuracy_score(y_test, supportvector.predict(x_test_norm))\n",
    "\n",
    "print(acc, best_config)"
   ]
  },
  {
   "cell_type": "markdown",
   "id": "5e55ef86",
   "metadata": {},
   "source": [
    "### RANDOM FOREST"
   ]
  },
  {
   "cell_type": "code",
   "execution_count": 49,
   "id": "76025720",
   "metadata": {},
   "outputs": [
    {
     "name": "stdout",
     "output_type": "stream",
     "text": [
      "0.5350459879479861 {'criterion': 'gini', 'max_depth': None, 'n_estimators': 70}\n",
      "0.5429749444973041 {'criterion': 'gini', 'max_depth': None, 'n_estimators': 100}\n",
      "0.5413891531874405 {'criterion': 'gini', 'max_depth': None, 'n_estimators': 150}\n",
      "0.5134792261338408 {'criterion': 'gini', 'max_depth': 10, 'n_estimators': 70}\n",
      "0.49857278782112274 {'criterion': 'gini', 'max_depth': 10, 'n_estimators': 100}\n",
      "0.5106248017760863 {'criterion': 'gini', 'max_depth': 10, 'n_estimators': 150}\n",
      "0.5379004123057406 {'criterion': 'gini', 'max_depth': 20, 'n_estimators': 70}\n",
      "0.5353631462099587 {'criterion': 'gini', 'max_depth': 20, 'n_estimators': 100}\n",
      "0.5458293688550587 {'criterion': 'gini', 'max_depth': 20, 'n_estimators': 150}\n",
      "0.5248969235648588 {'criterion': 'entropy', 'max_depth': None, 'n_estimators': 70}\n",
      "0.5306057722803679 {'criterion': 'entropy', 'max_depth': None, 'n_estimators': 100}\n",
      "0.5261655566127498 {'criterion': 'entropy', 'max_depth': None, 'n_estimators': 150}\n",
      "0.5217253409451316 {'criterion': 'entropy', 'max_depth': 10, 'n_estimators': 70}\n",
      "0.5103076435141135 {'criterion': 'entropy', 'max_depth': 10, 'n_estimators': 100}\n",
      "0.5277513479226134 {'criterion': 'entropy', 'max_depth': 10, 'n_estimators': 150}\n",
      "0.538534728829686 {'criterion': 'entropy', 'max_depth': 20, 'n_estimators': 70}\n",
      "0.5566127497621313 {'criterion': 'entropy', 'max_depth': 20, 'n_estimators': 100}\n",
      "0.5436092610212496 {'criterion': 'entropy', 'max_depth': 20, 'n_estimators': 150}\n"
     ]
    }
   ],
   "source": [
    "param_grid = {'n_estimators': [70, 100, 150],\n",
    "              'criterion': ['gini', 'entropy'],\n",
    "             'max_depth': [None, 10, 20]}\n",
    "\n",
    "accuracies = []\n",
    "for config in ParameterGrid(param_grid):\n",
    "    rfc = RFC(**config)\n",
    "    rfc.fit(x_train, y_train)\n",
    "    y_predict = rfc.predict(x_val)\n",
    "    \n",
    "    accuracies.append(accuracy_score(y_val, y_predict))\n",
    "    \n",
    "for acc, param in zip(accuracies, list(ParameterGrid(param_grid))):\n",
    "    print(acc, param)"
   ]
  },
  {
   "cell_type": "code",
   "execution_count": 50,
   "id": "692497f5",
   "metadata": {},
   "outputs": [
    {
     "name": "stdout",
     "output_type": "stream",
     "text": [
      "0.5792141951837769 {'criterion': 'entropy', 'max_depth': 20, 'n_estimators': 100}\n"
     ]
    }
   ],
   "source": [
    "best_config = list(ParameterGrid(param_grid))[np.argmax(accuracies)]\n",
    "\n",
    "rfc = RFC(**best_config)\n",
    "rfc.fit(x_train_final, y_train_final)\n",
    "acc = accuracy_score(y_test, rfc.predict(x_test))\n",
    "\n",
    "print(acc, best_config)"
   ]
  },
  {
   "cell_type": "markdown",
   "id": "5df74f79",
   "metadata": {},
   "source": [
    "### KNN"
   ]
  },
  {
   "cell_type": "code",
   "execution_count": 51,
   "id": "905e3469",
   "metadata": {},
   "outputs": [
    {
     "name": "stdout",
     "output_type": "stream",
     "text": [
      "0.6393910561370124 {'n_neighbors': 6}\n",
      "0.6238503013003489 {'n_neighbors': 10}\n",
      "0.5899143672692674 {'n_neighbors': 15}\n"
     ]
    }
   ],
   "source": [
    "param_grid = {'n_neighbors': [6, 10, 15]}\n",
    "\n",
    "accuracies = []\n",
    "for config in ParameterGrid(param_grid):\n",
    "    knn = neighbors.KNeighborsClassifier(**config)\n",
    "    knn.fit(x_train, y_train)\n",
    "    y_predict = knn.predict(x_val)\n",
    "    \n",
    "    accuracies.append(accuracy_score(y_val, y_predict))\n",
    "    \n",
    "for acc, param in zip(accuracies, list(ParameterGrid(param_grid))):\n",
    "    print(acc, param)"
   ]
  },
  {
   "cell_type": "code",
   "execution_count": 52,
   "id": "e356cc26",
   "metadata": {},
   "outputs": [
    {
     "name": "stdout",
     "output_type": "stream",
     "text": [
      "0.6818757921419518 {'n_neighbors': 6}\n"
     ]
    }
   ],
   "source": [
    "best_config = list(ParameterGrid(param_grid))[np.argmax(accuracies)]\n",
    "\n",
    "knn = neighbors.KNeighborsClassifier(**best_config)\n",
    "knn.fit(x_train_final, y_train_final)\n",
    "acc = accuracy_score(y_test, knn.predict(x_test))\n",
    "\n",
    "print(acc, best_config)"
   ]
  },
  {
   "cell_type": "markdown",
   "id": "f92114cc",
   "metadata": {},
   "source": [
    "# EVALUATION"
   ]
  },
  {
   "cell_type": "markdown",
   "id": "bed12818",
   "metadata": {},
   "source": [
    "Loading evaluation dataset"
   ]
  },
  {
   "cell_type": "code",
   "execution_count": null,
   "id": "c046d3c9",
   "metadata": {},
   "outputs": [],
   "source": [
    "Ev = pd.read_csv('evaluation.csv', sep = ',', low_memory = False)\n",
    "Id = Ev[\"Id\"]\n",
    "gender_e = Ev['gender']\n",
    "dirs_e = Ev['path']\n",
    "Ev.drop([\"Id\", \"speakerId\", \"Self-reported fluency level \", \"First Language spoken\", \"Current language used for work/school\", \"gender\", \"ageRange\"], axis = 1, inplace = True)"
   ]
  },
  {
   "cell_type": "markdown",
   "id": "eb17b9a4",
   "metadata": {},
   "source": [
    "Resampling and pitch shifting"
   ]
  },
  {
   "cell_type": "code",
   "execution_count": null,
   "id": "f677577e",
   "metadata": {},
   "outputs": [],
   "source": [
    "file_p_e = []\n",
    "\n",
    "for audio, g in zip(dirs_e, gender_e):\n",
    "    data,_ = librosa.load(audio)\n",
    "    if g == \"female\":\n",
    "        data = et.pitch_shift(data, sr = SR, n_steps = -1, bins_per_octave = 12)\n",
    "    file_p_e.append(data)"
   ]
  },
  {
   "cell_type": "markdown",
   "id": "33b085ef",
   "metadata": {},
   "source": [
    "Normalizing"
   ]
  },
  {
   "cell_type": "code",
   "execution_count": null,
   "id": "2071bd65",
   "metadata": {},
   "outputs": [],
   "source": [
    "dev_X_e = normalize_dataset(file_p_e)"
   ]
  },
  {
   "cell_type": "markdown",
   "id": "a67fd501",
   "metadata": {},
   "source": [
    "Denoising"
   ]
  },
  {
   "cell_type": "code",
   "execution_count": null,
   "id": "4b83dd6e",
   "metadata": {},
   "outputs": [],
   "source": [
    "dev_X_e = denoising_dataset(dev_X_e)"
   ]
  },
  {
   "cell_type": "markdown",
   "id": "a406d1f1",
   "metadata": {},
   "source": [
    "Removing silence"
   ]
  },
  {
   "cell_type": "code",
   "execution_count": null,
   "id": "db0abba7",
   "metadata": {},
   "outputs": [],
   "source": [
    "dev_X_e = remove_silence(dev_X_e)"
   ]
  },
  {
   "cell_type": "markdown",
   "id": "54c778e9",
   "metadata": {},
   "source": [
    "Trimming and zero-padding"
   ]
  },
  {
   "cell_type": "code",
   "execution_count": null,
   "id": "b616cb5a",
   "metadata": {},
   "outputs": [],
   "source": [
    "dev_X_e = equal_length(dev_X_e, perc)"
   ]
  },
  {
   "cell_type": "markdown",
   "id": "bf0ca9b3",
   "metadata": {},
   "source": [
    "Extracting features"
   ]
  },
  {
   "cell_type": "code",
   "execution_count": null,
   "id": "75e0d529",
   "metadata": {},
   "outputs": [],
   "source": [
    "X_sp_delta_e = compute_dataset_features(dev_X_e, method = 'mfcc_delta')"
   ]
  },
  {
   "cell_type": "markdown",
   "id": "91b67508",
   "metadata": {},
   "source": [
    "Support vector fitted with all the development set, with C = 5, kernel = rbf"
   ]
  },
  {
   "cell_type": "code",
   "execution_count": null,
   "id": "80194f2d",
   "metadata": {},
   "outputs": [],
   "source": [
    "supportvector = svm.SVC(C = 5, kernel = 'rbf')\n",
    "\n",
    "\n",
    "minmax_s = MinMaxScaler()\n",
    "minmax_s.fit(X_sp_delta)\n",
    "x_train_norm = minmax_s.transform(X_sp_delta)\n",
    "x_val_norm = minmax_s.transform(X_sp_delta_e)\n",
    "\n",
    "supportvector.fit(x_train_norm, dev_y)\n",
    "y_predict = supportvector.predict(x_val_norm)\n"
   ]
  },
  {
   "cell_type": "markdown",
   "id": "fc86a7c3",
   "metadata": {},
   "source": [
    "Saving file"
   ]
  },
  {
   "cell_type": "code",
   "execution_count": null,
   "id": "73c68cf7",
   "metadata": {},
   "outputs": [],
   "source": [
    "Eval = np.vstack((Id, y_predict))"
   ]
  },
  {
   "cell_type": "code",
   "execution_count": null,
   "id": "01ac322f",
   "metadata": {},
   "outputs": [],
   "source": [
    "Eval = pd.DataFrame(Eval.transpose(), columns = ['Id', 'Predicted'])"
   ]
  },
  {
   "cell_type": "code",
   "execution_count": null,
   "id": "671a54d5",
   "metadata": {},
   "outputs": [],
   "source": [
    "Eval.to_csv('Final_submission.csv', sep = ',', index = False)"
   ]
  }
 ],
 "metadata": {
  "kernelspec": {
   "display_name": "Python 3 (ipykernel)",
   "language": "python",
   "name": "python3"
  },
  "language_info": {
   "codemirror_mode": {
    "name": "ipython",
    "version": 3
   },
   "file_extension": ".py",
   "mimetype": "text/x-python",
   "name": "python",
   "nbconvert_exporter": "python",
   "pygments_lexer": "ipython3",
   "version": "3.9.12"
  }
 },
 "nbformat": 4,
 "nbformat_minor": 5
}
